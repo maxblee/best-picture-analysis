{
 "cells": [
  {
   "cell_type": "markdown",
   "metadata": {},
   "source": [
    "# Analysis of Oscar Genre Bias\n",
    "\n",
    "This is the script we used to analyze discrepencies between the rates in which different genres receive Best Picture nominations compared to the rate at which the movies have been produced. \n",
    "\n",
    "## Step One: Read the data\n",
    "\n",
    "We're going to start by reading the IMDb data and Oscar data we collected into memory. "
   ]
  },
  {
   "cell_type": "code",
   "execution_count": 1,
   "metadata": {},
   "outputs": [
    {
     "data": {
      "text/html": [
       "<div>\n",
       "<style scoped>\n",
       "    .dataframe tbody tr th:only-of-type {\n",
       "        vertical-align: middle;\n",
       "    }\n",
       "\n",
       "    .dataframe tbody tr th {\n",
       "        vertical-align: top;\n",
       "    }\n",
       "\n",
       "    .dataframe thead th {\n",
       "        text-align: right;\n",
       "    }\n",
       "</style>\n",
       "<table border=\"1\" class=\"dataframe\">\n",
       "  <thead>\n",
       "    <tr style=\"text-align: right;\">\n",
       "      <th></th>\n",
       "      <th>count</th>\n",
       "      <th>mean</th>\n",
       "      <th>std</th>\n",
       "      <th>min</th>\n",
       "      <th>25%</th>\n",
       "      <th>50%</th>\n",
       "      <th>75%</th>\n",
       "      <th>max</th>\n",
       "    </tr>\n",
       "    <tr>\n",
       "      <th>award</th>\n",
       "      <th></th>\n",
       "      <th></th>\n",
       "      <th></th>\n",
       "      <th></th>\n",
       "      <th></th>\n",
       "      <th></th>\n",
       "      <th></th>\n",
       "      <th></th>\n",
       "    </tr>\n",
       "  </thead>\n",
       "  <tbody>\n",
       "    <tr>\n",
       "      <th>ACTOR</th>\n",
       "      <td>232.0</td>\n",
       "      <td>1952.086207</td>\n",
       "      <td>13.763978</td>\n",
       "      <td>1927.0</td>\n",
       "      <td>1941.0</td>\n",
       "      <td>1952.0</td>\n",
       "      <td>1964.0</td>\n",
       "      <td>1975.0</td>\n",
       "    </tr>\n",
       "    <tr>\n",
       "      <th>ACTOR IN A LEADING ROLE</th>\n",
       "      <td>215.0</td>\n",
       "      <td>1997.000000</td>\n",
       "      <td>12.438634</td>\n",
       "      <td>1976.0</td>\n",
       "      <td>1986.0</td>\n",
       "      <td>1997.0</td>\n",
       "      <td>2008.0</td>\n",
       "      <td>2018.0</td>\n",
       "    </tr>\n",
       "    <tr>\n",
       "      <th>ACTOR IN A SUPPORTING ROLE</th>\n",
       "      <td>415.0</td>\n",
       "      <td>1977.000000</td>\n",
       "      <td>23.987215</td>\n",
       "      <td>1936.0</td>\n",
       "      <td>1956.0</td>\n",
       "      <td>1977.0</td>\n",
       "      <td>1998.0</td>\n",
       "      <td>2018.0</td>\n",
       "    </tr>\n",
       "    <tr>\n",
       "      <th>ACTRESS</th>\n",
       "      <td>236.0</td>\n",
       "      <td>1951.728814</td>\n",
       "      <td>13.923903</td>\n",
       "      <td>1927.0</td>\n",
       "      <td>1940.0</td>\n",
       "      <td>1952.0</td>\n",
       "      <td>1964.0</td>\n",
       "      <td>1975.0</td>\n",
       "    </tr>\n",
       "    <tr>\n",
       "      <th>ACTRESS IN A LEADING ROLE</th>\n",
       "      <td>215.0</td>\n",
       "      <td>1997.000000</td>\n",
       "      <td>12.438634</td>\n",
       "      <td>1976.0</td>\n",
       "      <td>1986.0</td>\n",
       "      <td>1997.0</td>\n",
       "      <td>2008.0</td>\n",
       "      <td>2018.0</td>\n",
       "    </tr>\n",
       "    <tr>\n",
       "      <th>ACTRESS IN A SUPPORTING ROLE</th>\n",
       "      <td>415.0</td>\n",
       "      <td>1977.000000</td>\n",
       "      <td>23.987215</td>\n",
       "      <td>1936.0</td>\n",
       "      <td>1956.0</td>\n",
       "      <td>1977.0</td>\n",
       "      <td>1998.0</td>\n",
       "      <td>2018.0</td>\n",
       "    </tr>\n",
       "    <tr>\n",
       "      <th>BEST MOTION PICTURE</th>\n",
       "      <td>90.0</td>\n",
       "      <td>1952.500000</td>\n",
       "      <td>5.217193</td>\n",
       "      <td>1944.0</td>\n",
       "      <td>1948.0</td>\n",
       "      <td>1952.5</td>\n",
       "      <td>1957.0</td>\n",
       "      <td>1961.0</td>\n",
       "    </tr>\n",
       "    <tr>\n",
       "      <th>BEST PICTURE</th>\n",
       "      <td>324.0</td>\n",
       "      <td>1992.783951</td>\n",
       "      <td>17.224153</td>\n",
       "      <td>1962.0</td>\n",
       "      <td>1978.0</td>\n",
       "      <td>1994.0</td>\n",
       "      <td>2009.0</td>\n",
       "      <td>2018.0</td>\n",
       "    </tr>\n",
       "    <tr>\n",
       "      <th>DIRECTING</th>\n",
       "      <td>444.0</td>\n",
       "      <td>1973.984234</td>\n",
       "      <td>25.856388</td>\n",
       "      <td>1928.0</td>\n",
       "      <td>1952.0</td>\n",
       "      <td>1974.0</td>\n",
       "      <td>1996.0</td>\n",
       "      <td>2018.0</td>\n",
       "    </tr>\n",
       "    <tr>\n",
       "      <th>DIRECTING (Comedy Picture)</th>\n",
       "      <td>2.0</td>\n",
       "      <td>1927.000000</td>\n",
       "      <td>0.000000</td>\n",
       "      <td>1927.0</td>\n",
       "      <td>1927.0</td>\n",
       "      <td>1927.0</td>\n",
       "      <td>1927.0</td>\n",
       "      <td>1927.0</td>\n",
       "    </tr>\n",
       "    <tr>\n",
       "      <th>DIRECTING (Dramatic Picture)</th>\n",
       "      <td>3.0</td>\n",
       "      <td>1927.000000</td>\n",
       "      <td>0.000000</td>\n",
       "      <td>1927.0</td>\n",
       "      <td>1927.0</td>\n",
       "      <td>1927.0</td>\n",
       "      <td>1927.0</td>\n",
       "      <td>1927.0</td>\n",
       "    </tr>\n",
       "    <tr>\n",
       "      <th>OUTSTANDING MOTION PICTURE</th>\n",
       "      <td>30.0</td>\n",
       "      <td>1942.000000</td>\n",
       "      <td>0.830455</td>\n",
       "      <td>1941.0</td>\n",
       "      <td>1941.0</td>\n",
       "      <td>1942.0</td>\n",
       "      <td>1943.0</td>\n",
       "      <td>1943.0</td>\n",
       "    </tr>\n",
       "    <tr>\n",
       "      <th>OUTSTANDING PICTURE</th>\n",
       "      <td>8.0</td>\n",
       "      <td>1927.625000</td>\n",
       "      <td>0.517549</td>\n",
       "      <td>1927.0</td>\n",
       "      <td>1927.0</td>\n",
       "      <td>1928.0</td>\n",
       "      <td>1928.0</td>\n",
       "      <td>1928.0</td>\n",
       "    </tr>\n",
       "    <tr>\n",
       "      <th>OUTSTANDING PRODUCTION</th>\n",
       "      <td>102.0</td>\n",
       "      <td>1935.205882</td>\n",
       "      <td>3.271050</td>\n",
       "      <td>1929.0</td>\n",
       "      <td>1932.0</td>\n",
       "      <td>1935.0</td>\n",
       "      <td>1938.0</td>\n",
       "      <td>1940.0</td>\n",
       "    </tr>\n",
       "  </tbody>\n",
       "</table>\n",
       "</div>"
      ],
      "text/plain": [
       "                              count         mean        std     min     25%  \\\n",
       "award                                                                         \n",
       "ACTOR                         232.0  1952.086207  13.763978  1927.0  1941.0   \n",
       "ACTOR IN A LEADING ROLE       215.0  1997.000000  12.438634  1976.0  1986.0   \n",
       "ACTOR IN A SUPPORTING ROLE    415.0  1977.000000  23.987215  1936.0  1956.0   \n",
       "ACTRESS                       236.0  1951.728814  13.923903  1927.0  1940.0   \n",
       "ACTRESS IN A LEADING ROLE     215.0  1997.000000  12.438634  1976.0  1986.0   \n",
       "ACTRESS IN A SUPPORTING ROLE  415.0  1977.000000  23.987215  1936.0  1956.0   \n",
       "BEST MOTION PICTURE            90.0  1952.500000   5.217193  1944.0  1948.0   \n",
       "BEST PICTURE                  324.0  1992.783951  17.224153  1962.0  1978.0   \n",
       "DIRECTING                     444.0  1973.984234  25.856388  1928.0  1952.0   \n",
       "DIRECTING (Comedy Picture)      2.0  1927.000000   0.000000  1927.0  1927.0   \n",
       "DIRECTING (Dramatic Picture)    3.0  1927.000000   0.000000  1927.0  1927.0   \n",
       "OUTSTANDING MOTION PICTURE     30.0  1942.000000   0.830455  1941.0  1941.0   \n",
       "OUTSTANDING PICTURE             8.0  1927.625000   0.517549  1927.0  1927.0   \n",
       "OUTSTANDING PRODUCTION        102.0  1935.205882   3.271050  1929.0  1932.0   \n",
       "\n",
       "                                 50%     75%     max  \n",
       "award                                                 \n",
       "ACTOR                         1952.0  1964.0  1975.0  \n",
       "ACTOR IN A LEADING ROLE       1997.0  2008.0  2018.0  \n",
       "ACTOR IN A SUPPORTING ROLE    1977.0  1998.0  2018.0  \n",
       "ACTRESS                       1952.0  1964.0  1975.0  \n",
       "ACTRESS IN A LEADING ROLE     1997.0  2008.0  2018.0  \n",
       "ACTRESS IN A SUPPORTING ROLE  1977.0  1998.0  2018.0  \n",
       "BEST MOTION PICTURE           1952.5  1957.0  1961.0  \n",
       "BEST PICTURE                  1994.0  2009.0  2018.0  \n",
       "DIRECTING                     1974.0  1996.0  2018.0  \n",
       "DIRECTING (Comedy Picture)    1927.0  1927.0  1927.0  \n",
       "DIRECTING (Dramatic Picture)  1927.0  1927.0  1927.0  \n",
       "OUTSTANDING MOTION PICTURE    1942.0  1943.0  1943.0  \n",
       "OUTSTANDING PICTURE           1928.0  1928.0  1928.0  \n",
       "OUTSTANDING PRODUCTION        1935.0  1938.0  1940.0  "
      ]
     },
     "execution_count": 1,
     "metadata": {},
     "output_type": "execute_result"
    }
   ],
   "source": [
    "import collections\n",
    "import pandas as pd\n",
    "import numpy as np\n",
    "IMDB_FILE = \"data/imdb_movie_data.csv\"\n",
    "OSCAR_FILE = \"data/merged_major_categories.csv\"\n",
    "oscar_data = pd.read_csv(OSCAR_FILE)\n",
    "imdb_data = pd.read_csv(IMDB_FILE, low_memory=False)\n",
    "oscar_data.groupby(\"award\").describe()[\"start_year\"]"
   ]
  },
  {
   "cell_type": "code",
   "execution_count": 2,
   "metadata": {},
   "outputs": [
    {
     "data": {
      "text/html": [
       "<div>\n",
       "<style scoped>\n",
       "    .dataframe tbody tr th:only-of-type {\n",
       "        vertical-align: middle;\n",
       "    }\n",
       "\n",
       "    .dataframe tbody tr th {\n",
       "        vertical-align: top;\n",
       "    }\n",
       "\n",
       "    .dataframe thead th {\n",
       "        text-align: right;\n",
       "    }\n",
       "</style>\n",
       "<table border=\"1\" class=\"dataframe\">\n",
       "  <thead>\n",
       "    <tr style=\"text-align: right;\">\n",
       "      <th></th>\n",
       "      <th>year</th>\n",
       "      <th>award</th>\n",
       "      <th>won</th>\n",
       "      <th>nominee</th>\n",
       "      <th>nominated_film</th>\n",
       "      <th>addl_notes</th>\n",
       "      <th>special_citation</th>\n",
       "      <th>start_year</th>\n",
       "      <th>oscar_id</th>\n",
       "      <th>title_lower</th>\n",
       "      <th>tconst</th>\n",
       "      <th>titleType</th>\n",
       "      <th>primaryTitle</th>\n",
       "      <th>originalTitle</th>\n",
       "      <th>isAdult</th>\n",
       "      <th>startYear</th>\n",
       "      <th>endYear</th>\n",
       "      <th>runtimeMinutes</th>\n",
       "      <th>genres</th>\n",
       "      <th>title</th>\n",
       "    </tr>\n",
       "  </thead>\n",
       "  <tbody>\n",
       "    <tr>\n",
       "      <th>0</th>\n",
       "      <td>1927/28</td>\n",
       "      <td>ACTOR</td>\n",
       "      <td>False</td>\n",
       "      <td>Richard Barthelmess</td>\n",
       "      <td>The Noose</td>\n",
       "      <td>NaN</td>\n",
       "      <td>NaN</td>\n",
       "      <td>1927</td>\n",
       "      <td>0</td>\n",
       "      <td>the noose</td>\n",
       "      <td>tt0019217</td>\n",
       "      <td>movie</td>\n",
       "      <td>The Noose</td>\n",
       "      <td>The Noose</td>\n",
       "      <td>0</td>\n",
       "      <td>1928</td>\n",
       "      <td>NaN</td>\n",
       "      <td>65.0</td>\n",
       "      <td>Drama</td>\n",
       "      <td>the noose</td>\n",
       "    </tr>\n",
       "    <tr>\n",
       "      <th>1</th>\n",
       "      <td>1927/28</td>\n",
       "      <td>ACTOR</td>\n",
       "      <td>True</td>\n",
       "      <td>Emil Jannings</td>\n",
       "      <td>The Last Command</td>\n",
       "      <td>NaN</td>\n",
       "      <td>NaN</td>\n",
       "      <td>1927</td>\n",
       "      <td>1</td>\n",
       "      <td>the last command</td>\n",
       "      <td>tt0019071</td>\n",
       "      <td>movie</td>\n",
       "      <td>The Last Command</td>\n",
       "      <td>The Last Command</td>\n",
       "      <td>0</td>\n",
       "      <td>1928</td>\n",
       "      <td>NaN</td>\n",
       "      <td>88.0</td>\n",
       "      <td>Drama,History,Romance</td>\n",
       "      <td>the last command</td>\n",
       "    </tr>\n",
       "    <tr>\n",
       "      <th>2</th>\n",
       "      <td>1927/28</td>\n",
       "      <td>ACTRESS</td>\n",
       "      <td>False</td>\n",
       "      <td>Louise Dresser</td>\n",
       "      <td>A Ship Comes In</td>\n",
       "      <td>NaN</td>\n",
       "      <td>NaN</td>\n",
       "      <td>1927</td>\n",
       "      <td>2</td>\n",
       "      <td>a ship comes in</td>\n",
       "      <td>tt0018389</td>\n",
       "      <td>movie</td>\n",
       "      <td>A Ship Comes In</td>\n",
       "      <td>A Ship Comes In</td>\n",
       "      <td>0</td>\n",
       "      <td>1928</td>\n",
       "      <td>NaN</td>\n",
       "      <td>70.0</td>\n",
       "      <td>Drama</td>\n",
       "      <td>a ship comes in</td>\n",
       "    </tr>\n",
       "    <tr>\n",
       "      <th>3</th>\n",
       "      <td>1927/28</td>\n",
       "      <td>ACTRESS</td>\n",
       "      <td>True</td>\n",
       "      <td>Janet Gaynor</td>\n",
       "      <td>7th Heaven</td>\n",
       "      <td>NaN</td>\n",
       "      <td>NaN</td>\n",
       "      <td>1927</td>\n",
       "      <td>3</td>\n",
       "      <td>7th heaven</td>\n",
       "      <td>tt0018379</td>\n",
       "      <td>movie</td>\n",
       "      <td>7th Heaven</td>\n",
       "      <td>7th Heaven</td>\n",
       "      <td>0</td>\n",
       "      <td>1927</td>\n",
       "      <td>NaN</td>\n",
       "      <td>110.0</td>\n",
       "      <td>Drama,Romance</td>\n",
       "      <td>7th heaven</td>\n",
       "    </tr>\n",
       "    <tr>\n",
       "      <th>4</th>\n",
       "      <td>1927/28</td>\n",
       "      <td>ACTRESS</td>\n",
       "      <td>False</td>\n",
       "      <td>Gloria Swanson</td>\n",
       "      <td>Sadie Thompson</td>\n",
       "      <td>NaN</td>\n",
       "      <td>NaN</td>\n",
       "      <td>1927</td>\n",
       "      <td>4</td>\n",
       "      <td>sadie thompson</td>\n",
       "      <td>tt0019344</td>\n",
       "      <td>movie</td>\n",
       "      <td>Sadie Thompson</td>\n",
       "      <td>Sadie Thompson</td>\n",
       "      <td>0</td>\n",
       "      <td>1928</td>\n",
       "      <td>NaN</td>\n",
       "      <td>97.0</td>\n",
       "      <td>Drama</td>\n",
       "      <td>sadie thompson</td>\n",
       "    </tr>\n",
       "  </tbody>\n",
       "</table>\n",
       "</div>"
      ],
      "text/plain": [
       "      year    award    won              nominee    nominated_film addl_notes  \\\n",
       "0  1927/28    ACTOR  False  Richard Barthelmess         The Noose        NaN   \n",
       "1  1927/28    ACTOR   True        Emil Jannings  The Last Command        NaN   \n",
       "2  1927/28  ACTRESS  False       Louise Dresser   A Ship Comes In        NaN   \n",
       "3  1927/28  ACTRESS   True         Janet Gaynor        7th Heaven        NaN   \n",
       "4  1927/28  ACTRESS  False       Gloria Swanson    Sadie Thompson        NaN   \n",
       "\n",
       "   special_citation  start_year  oscar_id       title_lower     tconst  \\\n",
       "0               NaN        1927         0         the noose  tt0019217   \n",
       "1               NaN        1927         1  the last command  tt0019071   \n",
       "2               NaN        1927         2   a ship comes in  tt0018389   \n",
       "3               NaN        1927         3        7th heaven  tt0018379   \n",
       "4               NaN        1927         4    sadie thompson  tt0019344   \n",
       "\n",
       "  titleType      primaryTitle     originalTitle  isAdult  startYear  endYear  \\\n",
       "0     movie         The Noose         The Noose        0       1928      NaN   \n",
       "1     movie  The Last Command  The Last Command        0       1928      NaN   \n",
       "2     movie   A Ship Comes In   A Ship Comes In        0       1928      NaN   \n",
       "3     movie        7th Heaven        7th Heaven        0       1927      NaN   \n",
       "4     movie    Sadie Thompson    Sadie Thompson        0       1928      NaN   \n",
       "\n",
       "   runtimeMinutes                 genres             title  \n",
       "0            65.0                  Drama         the noose  \n",
       "1            88.0  Drama,History,Romance  the last command  \n",
       "2            70.0                  Drama   a ship comes in  \n",
       "3           110.0          Drama,Romance        7th heaven  \n",
       "4            97.0                  Drama    sadie thompson  "
      ]
     },
     "execution_count": 2,
     "metadata": {},
     "output_type": "execute_result"
    }
   ],
   "source": [
    "best_picture_categories = {\n",
    "    \"BEST MOTION PICTURE\", \n",
    "    \"BEST PICTURE\", \n",
    "    \"OUTSTANDING MOTION PICTURE\", \n",
    "    \"OUTSTANDING PICTURE\", \n",
    "    \"OUTSTANDING PRODUCTION\"\n",
    "}\n",
    "oscar_data.head()"
   ]
  },
  {
   "cell_type": "markdown",
   "metadata": {},
   "source": [
    "## Step Two: Filtering the Data\n",
    "\n",
    "From here, we're going to filter out films that are not feature-length fictional films or that were not released between 1930 and 2018 (when our Oscar data takes place). We're also going to collect the genres for each of these films."
   ]
  },
  {
   "cell_type": "code",
   "execution_count": 3,
   "metadata": {},
   "outputs": [
    {
     "data": {
      "text/plain": [
       "[('Drama', 477),\n",
       " ('Romance', 167),\n",
       " ('Comedy', 117),\n",
       " ('Biography', 108),\n",
       " ('History', 64),\n",
       " ('Adventure', 63),\n",
       " ('Crime', 61),\n",
       " ('War', 38),\n",
       " ('Action', 32),\n",
       " ('Thriller', 32),\n",
       " ('Musical', 29),\n",
       " ('Fantasy', 27),\n",
       " ('Family', 26),\n",
       " ('Mystery', 25),\n",
       " ('Music', 22),\n",
       " ('Western', 14),\n",
       " ('Film-Noir', 13),\n",
       " ('Sport', 10),\n",
       " ('Sci-Fi', 10),\n",
       " ('Animation', 3),\n",
       " ('Horror', 2)]"
      ]
     },
     "execution_count": 3,
     "metadata": {},
     "output_type": "execute_result"
    }
   ],
   "source": [
    "best_picture = oscar_data[\n",
    "    (oscar_data.award.isin(best_picture_categories)) &\n",
    "    (oscar_data.start_year >= 1930)\n",
    "].copy()\n",
    "genres = best_picture.genres.str.split(\",\").apply(collections.Counter)\n",
    "oscar_data_g = genres.sum().most_common()\n",
    "oscar_data_g"
   ]
  },
  {
   "cell_type": "code",
   "execution_count": 4,
   "metadata": {},
   "outputs": [],
   "source": [
    "import re\n",
    "imdb_data = imdb_data[imdb_data.startYear.str.match(r\"[0-9]+\")]\n",
    "imdb_data[\"year\"] = imdb_data.startYear.apply(int)\n",
    "imdb_data = imdb_data[(imdb_data.year >= 1930) & (imdb_data.year <= 2018)]\n",
    "imdb_data.drop(imdb_data[\n",
    "    (imdb_data.genres == \"\\\\N\") | \n",
    "    (imdb_data.genres.str.contains(\"Short\")) | \n",
    "    (imdb_data.genres.str.contains(\"Documentary\")) |\n",
    "    (imdb_data.genres.str.contains(\"Reality-TV\")) | \n",
    "    (imdb_data.genres.str.contains(\"News\")) |\n",
    "    (imdb_data.genres.str.contains(\"Game-Show\")) |\n",
    "    (imdb_data.genres.str.contains(\"Talk-Show\")) |\n",
    "    (imdb_data.genres.str.contains(\"Adult\"))\n",
    "].index, inplace=True)"
   ]
  },
  {
   "cell_type": "code",
   "execution_count": 5,
   "metadata": {},
   "outputs": [
    {
     "data": {
      "text/plain": [
       "[('Drama', 144790),\n",
       " ('Comedy', 74009),\n",
       " ('Action', 35043),\n",
       " ('Romance', 33843),\n",
       " ('Crime', 24440),\n",
       " ('Thriller', 23571),\n",
       " ('Horror', 19297),\n",
       " ('Adventure', 17272),\n",
       " ('Family', 10925),\n",
       " ('Mystery', 10479),\n",
       " ('Fantasy', 9005),\n",
       " ('Musical', 8017),\n",
       " ('Sci-Fi', 6752),\n",
       " ('War', 5919),\n",
       " ('Music', 5180),\n",
       " ('History', 5122),\n",
       " ('Animation', 4835),\n",
       " ('Biography', 4509),\n",
       " ('Western', 4369),\n",
       " ('Sport', 3170),\n",
       " ('Film-Noir', 778)]"
      ]
     },
     "execution_count": 5,
     "metadata": {},
     "output_type": "execute_result"
    }
   ],
   "source": [
    "imdb_genres = imdb_data.genres.str.split(\",\").apply(collections.Counter)\n",
    "imdb_genre_g = imdb_genres.sum().most_common()\n",
    "imdb_genre_g"
   ]
  },
  {
   "cell_type": "code",
   "execution_count": 6,
   "metadata": {},
   "outputs": [
    {
     "data": {
      "text/plain": [
       "{'Drama': '88.17%',\n",
       " 'Romance': '30.87%',\n",
       " 'Comedy': '21.63%',\n",
       " 'Biography': '19.96%',\n",
       " 'History': '11.83%',\n",
       " 'Adventure': '11.65%',\n",
       " 'Crime': '11.28%',\n",
       " 'War': '7.02%',\n",
       " 'Action': '5.91%',\n",
       " 'Thriller': '5.91%',\n",
       " 'Musical': '5.36%',\n",
       " 'Fantasy': '4.99%',\n",
       " 'Family': '4.81%',\n",
       " 'Mystery': '4.62%',\n",
       " 'Music': '4.07%',\n",
       " 'Western': '2.59%',\n",
       " 'Film-Noir': '2.40%',\n",
       " 'Sport': '1.85%',\n",
       " 'Sci-Fi': '1.85%',\n",
       " 'Animation': '0.55%',\n",
       " 'Horror': '0.37%'}"
      ]
     },
     "execution_count": 6,
     "metadata": {},
     "output_type": "execute_result"
    }
   ],
   "source": [
    "{ genre:f\"{value/len(best_picture) * 100:.2f}%\" for genre, value in oscar_data_g }"
   ]
  },
  {
   "cell_type": "code",
   "execution_count": 7,
   "metadata": {},
   "outputs": [
    {
     "data": {
      "text/plain": [
       "{'Drama': '53.24%',\n",
       " 'Comedy': '27.21%',\n",
       " 'Action': '12.89%',\n",
       " 'Romance': '12.44%',\n",
       " 'Crime': '8.99%',\n",
       " 'Thriller': '8.67%',\n",
       " 'Horror': '7.10%',\n",
       " 'Adventure': '6.35%',\n",
       " 'Family': '4.02%',\n",
       " 'Mystery': '3.85%',\n",
       " 'Fantasy': '3.31%',\n",
       " 'Musical': '2.95%',\n",
       " 'Sci-Fi': '2.48%',\n",
       " 'War': '2.18%',\n",
       " 'Music': '1.90%',\n",
       " 'History': '1.88%',\n",
       " 'Animation': '1.78%',\n",
       " 'Biography': '1.66%',\n",
       " 'Western': '1.61%',\n",
       " 'Sport': '1.17%',\n",
       " 'Film-Noir': '0.29%'}"
      ]
     },
     "execution_count": 7,
     "metadata": {},
     "output_type": "execute_result"
    }
   ],
   "source": [
    "{ genre:f\"{(value/len(imdb_data)) * 100:.2f}%\" for genre, value in imdb_genre_g }"
   ]
  },
  {
   "cell_type": "markdown",
   "metadata": {},
   "source": [
    "Here, I'm checking changes over the decades for drama nominees and for the production of dramas as a whole. Neither really changed that much over this time period, so we wound up not including this data in our final analysis."
   ]
  },
  {
   "cell_type": "code",
   "execution_count": 8,
   "metadata": {},
   "outputs": [
    {
     "data": {
      "text/plain": [
       "decade\n",
       "1930s    75.862069\n",
       "1940s    88.571429\n",
       "1950s    90.000000\n",
       "1960s    82.000000\n",
       "1970s    90.000000\n",
       "1980s    96.000000\n",
       "1990s    98.000000\n",
       "2000s    90.909091\n",
       "2010s    89.873418\n",
       "Name: drama_count, dtype: float64"
      ]
     },
     "execution_count": 8,
     "metadata": {},
     "output_type": "execute_result"
    }
   ],
   "source": [
    "best_picture[\"decade\"] = best_picture.start_year.apply(str).str.extract(r\"(^[0-9]{3})\").apply(lambda x: x + \"0s\")\n",
    "best_picture[\"drama_count\"] = best_picture.genres.str.split(\",\").apply(collections.Counter).apply(lambda x: x[\"Drama\"])\n",
    "best_picture.groupby(\"decade\").sum()[\"drama_count\"] / best_picture.groupby(\"decade\").count()[\"drama_count\"] * 100"
   ]
  },
  {
   "cell_type": "code",
   "execution_count": 9,
   "metadata": {},
   "outputs": [
    {
     "data": {
      "text/plain": [
       "decade\n",
       "1930s    0.575566\n",
       "1940s    0.537697\n",
       "1950s    0.569901\n",
       "1960s    0.523474\n",
       "1970s    0.536685\n",
       "1980s    0.548082\n",
       "1990s    0.523921\n",
       "2000s    0.538633\n",
       "2010s    0.512566\n",
       "Name: drama_count, dtype: float64"
      ]
     },
     "execution_count": 9,
     "metadata": {},
     "output_type": "execute_result"
    }
   ],
   "source": [
    "imdb_data[\"decade\"] = imdb_data.startYear.apply(str).str.extract(r\"(^[0-9]{3})\").apply(lambda x: x + \"0s\")\n",
    "imdb_data[\"drama_count\"] = imdb_data.genres.str.split(\",\").apply(collections.Counter).apply(lambda x: x[\"Drama\"])\n",
    "imdb_data.groupby(\"decade\").sum()[\"drama_count\"] / imdb_data.groupby(\"decade\").count()[\"drama_count\"]"
   ]
  },
  {
   "cell_type": "code",
   "execution_count": 10,
   "metadata": {},
   "outputs": [
    {
     "data": {
      "text/plain": [
       "decade\n",
       "1930s    87\n",
       "1940s    70\n",
       "1950s    50\n",
       "1960s    50\n",
       "1970s    50\n",
       "1980s    50\n",
       "1990s    50\n",
       "2000s    55\n",
       "2010s    79\n",
       "Name: drama_count, dtype: int64"
      ]
     },
     "execution_count": 10,
     "metadata": {},
     "output_type": "execute_result"
    }
   ],
   "source": [
    "best_picture.groupby(\"decade\").count().drama_count"
   ]
  },
  {
   "cell_type": "markdown",
   "metadata": {},
   "source": [
    "## Overall Genre Rates\n",
    "\n",
    "Now, we're going to find the rate at which each of several genres has received Best Picture nominations and compare those to the rate at which movies of those genres have been produced."
   ]
  },
  {
   "cell_type": "code",
   "execution_count": 11,
   "metadata": {},
   "outputs": [
    {
     "data": {
      "text/plain": [
       "0.8817005545286506"
      ]
     },
     "execution_count": 11,
     "metadata": {},
     "output_type": "execute_result"
    }
   ],
   "source": [
    "best_picture.drama_count.sum() / len(best_picture)"
   ]
  },
  {
   "cell_type": "code",
   "execution_count": 12,
   "metadata": {},
   "outputs": [
    {
     "data": {
      "text/plain": [
       "0.5324062157570766"
      ]
     },
     "execution_count": 12,
     "metadata": {},
     "output_type": "execute_result"
    }
   ],
   "source": [
    "imdb_data.drama_count.sum() / len(imdb_data)"
   ]
  },
  {
   "cell_type": "code",
   "execution_count": 13,
   "metadata": {},
   "outputs": [
    {
     "data": {
      "text/plain": [
       "0.12885635070636947"
      ]
     },
     "execution_count": 13,
     "metadata": {},
     "output_type": "execute_result"
    }
   ],
   "source": [
    "imdb_data.genres.str.split(\",\").apply(collections.Counter).apply(lambda x: x[\"Action\"]).sum() / len(imdb_data)"
   ]
  },
  {
   "cell_type": "code",
   "execution_count": 14,
   "metadata": {},
   "outputs": [
    {
     "data": {
      "text/plain": [
       "0.059149722735674676"
      ]
     },
     "execution_count": 14,
     "metadata": {},
     "output_type": "execute_result"
    }
   ],
   "source": [
    "best_picture.genres.str.split(\",\").apply(collections.Counter).apply(lambda x: x[\"Action\"]).sum() / len(best_picture)"
   ]
  },
  {
   "cell_type": "code",
   "execution_count": 15,
   "metadata": {},
   "outputs": [
    {
     "data": {
      "text/plain": [
       "0.2721379350919641"
      ]
     },
     "execution_count": 15,
     "metadata": {},
     "output_type": "execute_result"
    }
   ],
   "source": [
    "imdb_data.genres.str.split(\",\").apply(collections.Counter).apply(lambda x: x[\"Comedy\"]).sum() / len(imdb_data)"
   ]
  },
  {
   "cell_type": "code",
   "execution_count": 16,
   "metadata": {},
   "outputs": [
    {
     "data": {
      "text/plain": [
       "0.21626617375231053"
      ]
     },
     "execution_count": 16,
     "metadata": {},
     "output_type": "execute_result"
    }
   ],
   "source": [
    "best_picture.genres.str.split(\",\").apply(collections.Counter).apply(lambda x: x[\"Comedy\"]).sum() / len(best_picture)"
   ]
  },
  {
   "cell_type": "markdown",
   "metadata": {},
   "source": [
    "## Rate Differences\n",
    "\n",
    "Now, we'll see which genres disproportionately receive or disproportionately do not receive Best Picture nominations. In the end, we focused on cases where the underlying percentage of production *and* where the difference was particularly strike."
   ]
  },
  {
   "cell_type": "code",
   "execution_count": 17,
   "metadata": {},
   "outputs": [
    {
     "data": {
      "text/html": [
       "<div>\n",
       "<style scoped>\n",
       "    .dataframe tbody tr th:only-of-type {\n",
       "        vertical-align: middle;\n",
       "    }\n",
       "\n",
       "    .dataframe tbody tr th {\n",
       "        vertical-align: top;\n",
       "    }\n",
       "\n",
       "    .dataframe thead th {\n",
       "        text-align: right;\n",
       "    }\n",
       "</style>\n",
       "<table border=\"1\" class=\"dataframe\">\n",
       "  <thead>\n",
       "    <tr style=\"text-align: right;\">\n",
       "      <th></th>\n",
       "      <th>best_picture</th>\n",
       "      <th>imdb</th>\n",
       "      <th>difference</th>\n",
       "    </tr>\n",
       "  </thead>\n",
       "  <tbody>\n",
       "    <tr>\n",
       "      <th>Drama</th>\n",
       "      <td>88.170055</td>\n",
       "      <td>53.240622</td>\n",
       "      <td>34.929434</td>\n",
       "    </tr>\n",
       "    <tr>\n",
       "      <th>Romance</th>\n",
       "      <td>30.868762</td>\n",
       "      <td>12.444384</td>\n",
       "      <td>18.424378</td>\n",
       "    </tr>\n",
       "    <tr>\n",
       "      <th>Biography</th>\n",
       "      <td>19.963031</td>\n",
       "      <td>1.658001</td>\n",
       "      <td>18.305030</td>\n",
       "    </tr>\n",
       "    <tr>\n",
       "      <th>History</th>\n",
       "      <td>11.829945</td>\n",
       "      <td>1.883407</td>\n",
       "      <td>9.946538</td>\n",
       "    </tr>\n",
       "    <tr>\n",
       "      <th>Adventure</th>\n",
       "      <td>11.645102</td>\n",
       "      <td>6.351074</td>\n",
       "      <td>5.294028</td>\n",
       "    </tr>\n",
       "  </tbody>\n",
       "</table>\n",
       "</div>"
      ],
      "text/plain": [
       "           best_picture       imdb  difference\n",
       "Drama         88.170055  53.240622   34.929434\n",
       "Romance       30.868762  12.444384   18.424378\n",
       "Biography     19.963031   1.658001   18.305030\n",
       "History       11.829945   1.883407    9.946538\n",
       "Adventure     11.645102   6.351074    5.294028"
      ]
     },
     "execution_count": 17,
     "metadata": {},
     "output_type": "execute_result"
    }
   ],
   "source": [
    "best_picture_pcts = { genre: value/len(best_picture) * 100 for genre, value in oscar_data_g }\n",
    "imdb_pcts = { genre: (value/len(imdb_data)) * 100 for genre, value in imdb_genre_g }\n",
    "genres_df = pd.Series(best_picture_pcts)\n",
    "genres_df = pd.concat(\n",
    "    [pd.Series(best_picture_pcts), pd.Series(imdb_pcts)], \n",
    "    axis=1, \n",
    "    sort=False, \n",
    "    keys=[\"best_picture\", \"imdb\"]\n",
    ").fillna(0)\n",
    "genres_df[\"difference\"] = genres_df.best_picture - genres_df.imdb\n",
    "genres_df.sort_values(by=\"difference\", ascending=False).head()"
   ]
  },
  {
   "cell_type": "code",
   "execution_count": 18,
   "metadata": {},
   "outputs": [
    {
     "data": {
      "text/html": [
       "<div>\n",
       "<style scoped>\n",
       "    .dataframe tbody tr th:only-of-type {\n",
       "        vertical-align: middle;\n",
       "    }\n",
       "\n",
       "    .dataframe tbody tr th {\n",
       "        vertical-align: top;\n",
       "    }\n",
       "\n",
       "    .dataframe thead th {\n",
       "        text-align: right;\n",
       "    }\n",
       "</style>\n",
       "<table border=\"1\" class=\"dataframe\">\n",
       "  <thead>\n",
       "    <tr style=\"text-align: right;\">\n",
       "      <th></th>\n",
       "      <th>best_picture</th>\n",
       "      <th>imdb</th>\n",
       "      <th>difference</th>\n",
       "    </tr>\n",
       "  </thead>\n",
       "  <tbody>\n",
       "    <tr>\n",
       "      <th>Action</th>\n",
       "      <td>5.914972</td>\n",
       "      <td>12.885635</td>\n",
       "      <td>-6.970663</td>\n",
       "    </tr>\n",
       "    <tr>\n",
       "      <th>Horror</th>\n",
       "      <td>0.369686</td>\n",
       "      <td>7.095685</td>\n",
       "      <td>-6.726000</td>\n",
       "    </tr>\n",
       "    <tr>\n",
       "      <th>Comedy</th>\n",
       "      <td>21.626617</td>\n",
       "      <td>27.213794</td>\n",
       "      <td>-5.587176</td>\n",
       "    </tr>\n",
       "    <tr>\n",
       "      <th>Thriller</th>\n",
       "      <td>5.914972</td>\n",
       "      <td>8.667275</td>\n",
       "      <td>-2.752302</td>\n",
       "    </tr>\n",
       "    <tr>\n",
       "      <th>Animation</th>\n",
       "      <td>0.554529</td>\n",
       "      <td>1.777874</td>\n",
       "      <td>-1.223346</td>\n",
       "    </tr>\n",
       "    <tr>\n",
       "      <th>Sci-Fi</th>\n",
       "      <td>1.848429</td>\n",
       "      <td>2.482773</td>\n",
       "      <td>-0.634344</td>\n",
       "    </tr>\n",
       "  </tbody>\n",
       "</table>\n",
       "</div>"
      ],
      "text/plain": [
       "           best_picture       imdb  difference\n",
       "Action         5.914972  12.885635   -6.970663\n",
       "Horror         0.369686   7.095685   -6.726000\n",
       "Comedy        21.626617  27.213794   -5.587176\n",
       "Thriller       5.914972   8.667275   -2.752302\n",
       "Animation      0.554529   1.777874   -1.223346\n",
       "Sci-Fi         1.848429   2.482773   -0.634344"
      ]
     },
     "execution_count": 18,
     "metadata": {},
     "output_type": "execute_result"
    }
   ],
   "source": [
    "genres_df.sort_values(by=\"difference\").head(6)"
   ]
  },
  {
   "cell_type": "code",
   "execution_count": null,
   "metadata": {},
   "outputs": [],
   "source": []
  }
 ],
 "metadata": {
  "kernelspec": {
   "display_name": "Python 3",
   "language": "python",
   "name": "python3"
  },
  "language_info": {
   "codemirror_mode": {
    "name": "ipython",
    "version": 3
   },
   "file_extension": ".py",
   "mimetype": "text/x-python",
   "name": "python",
   "nbconvert_exporter": "python",
   "pygments_lexer": "ipython3",
   "version": "3.7.4"
  }
 },
 "nbformat": 4,
 "nbformat_minor": 4
}
