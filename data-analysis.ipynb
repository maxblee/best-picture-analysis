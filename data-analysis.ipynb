{
 "cells": [
  {
   "cell_type": "markdown",
   "metadata": {},
   "source": [
    "# Analysis of Oscar Genre Bias"
   ]
  },
  {
   "cell_type": "code",
   "execution_count": 14,
   "metadata": {},
   "outputs": [
    {
     "data": {
      "text/html": [
       "<div>\n",
       "<style scoped>\n",
       "    .dataframe tbody tr th:only-of-type {\n",
       "        vertical-align: middle;\n",
       "    }\n",
       "\n",
       "    .dataframe tbody tr th {\n",
       "        vertical-align: top;\n",
       "    }\n",
       "\n",
       "    .dataframe thead th {\n",
       "        text-align: right;\n",
       "    }\n",
       "</style>\n",
       "<table border=\"1\" class=\"dataframe\">\n",
       "  <thead>\n",
       "    <tr style=\"text-align: right;\">\n",
       "      <th></th>\n",
       "      <th>count</th>\n",
       "      <th>mean</th>\n",
       "      <th>std</th>\n",
       "      <th>min</th>\n",
       "      <th>25%</th>\n",
       "      <th>50%</th>\n",
       "      <th>75%</th>\n",
       "      <th>max</th>\n",
       "    </tr>\n",
       "    <tr>\n",
       "      <th>award</th>\n",
       "      <th></th>\n",
       "      <th></th>\n",
       "      <th></th>\n",
       "      <th></th>\n",
       "      <th></th>\n",
       "      <th></th>\n",
       "      <th></th>\n",
       "      <th></th>\n",
       "    </tr>\n",
       "  </thead>\n",
       "  <tbody>\n",
       "    <tr>\n",
       "      <th>ACTOR</th>\n",
       "      <td>232.0</td>\n",
       "      <td>1952.086207</td>\n",
       "      <td>13.763978</td>\n",
       "      <td>1927.0</td>\n",
       "      <td>1941.0</td>\n",
       "      <td>1952.0</td>\n",
       "      <td>1964.0</td>\n",
       "      <td>1975.0</td>\n",
       "    </tr>\n",
       "    <tr>\n",
       "      <th>ACTOR IN A LEADING ROLE</th>\n",
       "      <td>215.0</td>\n",
       "      <td>1997.000000</td>\n",
       "      <td>12.438634</td>\n",
       "      <td>1976.0</td>\n",
       "      <td>1986.0</td>\n",
       "      <td>1997.0</td>\n",
       "      <td>2008.0</td>\n",
       "      <td>2018.0</td>\n",
       "    </tr>\n",
       "    <tr>\n",
       "      <th>ACTOR IN A SUPPORTING ROLE</th>\n",
       "      <td>415.0</td>\n",
       "      <td>1977.000000</td>\n",
       "      <td>23.987215</td>\n",
       "      <td>1936.0</td>\n",
       "      <td>1956.0</td>\n",
       "      <td>1977.0</td>\n",
       "      <td>1998.0</td>\n",
       "      <td>2018.0</td>\n",
       "    </tr>\n",
       "    <tr>\n",
       "      <th>ACTRESS</th>\n",
       "      <td>236.0</td>\n",
       "      <td>1951.728814</td>\n",
       "      <td>13.923903</td>\n",
       "      <td>1927.0</td>\n",
       "      <td>1940.0</td>\n",
       "      <td>1952.0</td>\n",
       "      <td>1964.0</td>\n",
       "      <td>1975.0</td>\n",
       "    </tr>\n",
       "    <tr>\n",
       "      <th>ACTRESS IN A LEADING ROLE</th>\n",
       "      <td>215.0</td>\n",
       "      <td>1997.000000</td>\n",
       "      <td>12.438634</td>\n",
       "      <td>1976.0</td>\n",
       "      <td>1986.0</td>\n",
       "      <td>1997.0</td>\n",
       "      <td>2008.0</td>\n",
       "      <td>2018.0</td>\n",
       "    </tr>\n",
       "    <tr>\n",
       "      <th>ACTRESS IN A SUPPORTING ROLE</th>\n",
       "      <td>415.0</td>\n",
       "      <td>1977.000000</td>\n",
       "      <td>23.987215</td>\n",
       "      <td>1936.0</td>\n",
       "      <td>1956.0</td>\n",
       "      <td>1977.0</td>\n",
       "      <td>1998.0</td>\n",
       "      <td>2018.0</td>\n",
       "    </tr>\n",
       "    <tr>\n",
       "      <th>BEST MOTION PICTURE</th>\n",
       "      <td>90.0</td>\n",
       "      <td>1952.500000</td>\n",
       "      <td>5.217193</td>\n",
       "      <td>1944.0</td>\n",
       "      <td>1948.0</td>\n",
       "      <td>1952.5</td>\n",
       "      <td>1957.0</td>\n",
       "      <td>1961.0</td>\n",
       "    </tr>\n",
       "    <tr>\n",
       "      <th>BEST PICTURE</th>\n",
       "      <td>324.0</td>\n",
       "      <td>1992.783951</td>\n",
       "      <td>17.224153</td>\n",
       "      <td>1962.0</td>\n",
       "      <td>1978.0</td>\n",
       "      <td>1994.0</td>\n",
       "      <td>2009.0</td>\n",
       "      <td>2018.0</td>\n",
       "    </tr>\n",
       "    <tr>\n",
       "      <th>DIRECTING</th>\n",
       "      <td>444.0</td>\n",
       "      <td>1973.984234</td>\n",
       "      <td>25.856388</td>\n",
       "      <td>1928.0</td>\n",
       "      <td>1952.0</td>\n",
       "      <td>1974.0</td>\n",
       "      <td>1996.0</td>\n",
       "      <td>2018.0</td>\n",
       "    </tr>\n",
       "    <tr>\n",
       "      <th>DIRECTING (Comedy Picture)</th>\n",
       "      <td>2.0</td>\n",
       "      <td>1927.000000</td>\n",
       "      <td>0.000000</td>\n",
       "      <td>1927.0</td>\n",
       "      <td>1927.0</td>\n",
       "      <td>1927.0</td>\n",
       "      <td>1927.0</td>\n",
       "      <td>1927.0</td>\n",
       "    </tr>\n",
       "    <tr>\n",
       "      <th>DIRECTING (Dramatic Picture)</th>\n",
       "      <td>3.0</td>\n",
       "      <td>1927.000000</td>\n",
       "      <td>0.000000</td>\n",
       "      <td>1927.0</td>\n",
       "      <td>1927.0</td>\n",
       "      <td>1927.0</td>\n",
       "      <td>1927.0</td>\n",
       "      <td>1927.0</td>\n",
       "    </tr>\n",
       "    <tr>\n",
       "      <th>OUTSTANDING MOTION PICTURE</th>\n",
       "      <td>30.0</td>\n",
       "      <td>1942.000000</td>\n",
       "      <td>0.830455</td>\n",
       "      <td>1941.0</td>\n",
       "      <td>1941.0</td>\n",
       "      <td>1942.0</td>\n",
       "      <td>1943.0</td>\n",
       "      <td>1943.0</td>\n",
       "    </tr>\n",
       "    <tr>\n",
       "      <th>OUTSTANDING PICTURE</th>\n",
       "      <td>8.0</td>\n",
       "      <td>1927.625000</td>\n",
       "      <td>0.517549</td>\n",
       "      <td>1927.0</td>\n",
       "      <td>1927.0</td>\n",
       "      <td>1928.0</td>\n",
       "      <td>1928.0</td>\n",
       "      <td>1928.0</td>\n",
       "    </tr>\n",
       "    <tr>\n",
       "      <th>OUTSTANDING PRODUCTION</th>\n",
       "      <td>102.0</td>\n",
       "      <td>1935.205882</td>\n",
       "      <td>3.271050</td>\n",
       "      <td>1929.0</td>\n",
       "      <td>1932.0</td>\n",
       "      <td>1935.0</td>\n",
       "      <td>1938.0</td>\n",
       "      <td>1940.0</td>\n",
       "    </tr>\n",
       "  </tbody>\n",
       "</table>\n",
       "</div>"
      ],
      "text/plain": [
       "                              count         mean        std     min     25%     50%     75%     max\n",
       "award                                                                                              \n",
       "ACTOR                         232.0  1952.086207  13.763978  1927.0  1941.0  1952.0  1964.0  1975.0\n",
       "ACTOR IN A LEADING ROLE       215.0  1997.000000  12.438634  1976.0  1986.0  1997.0  2008.0  2018.0\n",
       "ACTOR IN A SUPPORTING ROLE    415.0  1977.000000  23.987215  1936.0  1956.0  1977.0  1998.0  2018.0\n",
       "ACTRESS                       236.0  1951.728814  13.923903  1927.0  1940.0  1952.0  1964.0  1975.0\n",
       "ACTRESS IN A LEADING ROLE     215.0  1997.000000  12.438634  1976.0  1986.0  1997.0  2008.0  2018.0\n",
       "ACTRESS IN A SUPPORTING ROLE  415.0  1977.000000  23.987215  1936.0  1956.0  1977.0  1998.0  2018.0\n",
       "BEST MOTION PICTURE            90.0  1952.500000   5.217193  1944.0  1948.0  1952.5  1957.0  1961.0\n",
       "BEST PICTURE                  324.0  1992.783951  17.224153  1962.0  1978.0  1994.0  2009.0  2018.0\n",
       "DIRECTING                     444.0  1973.984234  25.856388  1928.0  1952.0  1974.0  1996.0  2018.0\n",
       "DIRECTING (Comedy Picture)      2.0  1927.000000   0.000000  1927.0  1927.0  1927.0  1927.0  1927.0\n",
       "DIRECTING (Dramatic Picture)    3.0  1927.000000   0.000000  1927.0  1927.0  1927.0  1927.0  1927.0\n",
       "OUTSTANDING MOTION PICTURE     30.0  1942.000000   0.830455  1941.0  1941.0  1942.0  1943.0  1943.0\n",
       "OUTSTANDING PICTURE             8.0  1927.625000   0.517549  1927.0  1927.0  1928.0  1928.0  1928.0\n",
       "OUTSTANDING PRODUCTION        102.0  1935.205882   3.271050  1929.0  1932.0  1935.0  1938.0  1940.0"
      ]
     },
     "execution_count": 14,
     "metadata": {},
     "output_type": "execute_result"
    }
   ],
   "source": [
    "import collections\n",
    "import pandas as pd\n",
    "import numpy as np\n",
    "IMDB_FILE = \"data/imdb_movie_data.csv\"\n",
    "OSCAR_FILE = \"data/merged_major_categories.csv\"\n",
    "oscar_data = pd.read_csv(OSCAR_FILE)\n",
    "imdb_data = pd.read_csv(IMDB_FILE, low_memory=False)\n",
    "oscar_data.groupby(\"award\").describe()[\"start_year\"]"
   ]
  },
  {
   "cell_type": "code",
   "execution_count": 8,
   "metadata": {},
   "outputs": [
    {
     "data": {
      "text/html": [
       "<div>\n",
       "<style scoped>\n",
       "    .dataframe tbody tr th:only-of-type {\n",
       "        vertical-align: middle;\n",
       "    }\n",
       "\n",
       "    .dataframe tbody tr th {\n",
       "        vertical-align: top;\n",
       "    }\n",
       "\n",
       "    .dataframe thead th {\n",
       "        text-align: right;\n",
       "    }\n",
       "</style>\n",
       "<table border=\"1\" class=\"dataframe\">\n",
       "  <thead>\n",
       "    <tr style=\"text-align: right;\">\n",
       "      <th></th>\n",
       "      <th>year</th>\n",
       "      <th>award</th>\n",
       "      <th>won</th>\n",
       "      <th>nominee</th>\n",
       "      <th>nominated_film</th>\n",
       "      <th>addl_notes</th>\n",
       "      <th>special_citation</th>\n",
       "      <th>start_year</th>\n",
       "      <th>oscar_id</th>\n",
       "      <th>title_lower</th>\n",
       "      <th>tconst</th>\n",
       "      <th>titleType</th>\n",
       "      <th>primaryTitle</th>\n",
       "      <th>originalTitle</th>\n",
       "      <th>isAdult</th>\n",
       "      <th>startYear</th>\n",
       "      <th>endYear</th>\n",
       "      <th>runtimeMinutes</th>\n",
       "      <th>genres</th>\n",
       "      <th>title</th>\n",
       "    </tr>\n",
       "  </thead>\n",
       "  <tbody>\n",
       "    <tr>\n",
       "      <th>0</th>\n",
       "      <td>1927/28</td>\n",
       "      <td>ACTOR</td>\n",
       "      <td>False</td>\n",
       "      <td>Richard Barthelmess</td>\n",
       "      <td>The Noose</td>\n",
       "      <td>NaN</td>\n",
       "      <td>NaN</td>\n",
       "      <td>1927</td>\n",
       "      <td>0</td>\n",
       "      <td>the noose</td>\n",
       "      <td>tt0019217</td>\n",
       "      <td>movie</td>\n",
       "      <td>The Noose</td>\n",
       "      <td>The Noose</td>\n",
       "      <td>0</td>\n",
       "      <td>1928</td>\n",
       "      <td>NaN</td>\n",
       "      <td>65.0</td>\n",
       "      <td>Drama</td>\n",
       "      <td>the noose</td>\n",
       "    </tr>\n",
       "    <tr>\n",
       "      <th>1</th>\n",
       "      <td>1927/28</td>\n",
       "      <td>ACTOR</td>\n",
       "      <td>True</td>\n",
       "      <td>Emil Jannings</td>\n",
       "      <td>The Last Command</td>\n",
       "      <td>NaN</td>\n",
       "      <td>NaN</td>\n",
       "      <td>1927</td>\n",
       "      <td>1</td>\n",
       "      <td>the last command</td>\n",
       "      <td>tt0019071</td>\n",
       "      <td>movie</td>\n",
       "      <td>The Last Command</td>\n",
       "      <td>The Last Command</td>\n",
       "      <td>0</td>\n",
       "      <td>1928</td>\n",
       "      <td>NaN</td>\n",
       "      <td>88.0</td>\n",
       "      <td>Drama,History,Romance</td>\n",
       "      <td>the last command</td>\n",
       "    </tr>\n",
       "    <tr>\n",
       "      <th>2</th>\n",
       "      <td>1927/28</td>\n",
       "      <td>ACTRESS</td>\n",
       "      <td>False</td>\n",
       "      <td>Louise Dresser</td>\n",
       "      <td>A Ship Comes In</td>\n",
       "      <td>NaN</td>\n",
       "      <td>NaN</td>\n",
       "      <td>1927</td>\n",
       "      <td>2</td>\n",
       "      <td>a ship comes in</td>\n",
       "      <td>tt0018389</td>\n",
       "      <td>movie</td>\n",
       "      <td>A Ship Comes In</td>\n",
       "      <td>A Ship Comes In</td>\n",
       "      <td>0</td>\n",
       "      <td>1928</td>\n",
       "      <td>NaN</td>\n",
       "      <td>70.0</td>\n",
       "      <td>Drama</td>\n",
       "      <td>a ship comes in</td>\n",
       "    </tr>\n",
       "    <tr>\n",
       "      <th>3</th>\n",
       "      <td>1927/28</td>\n",
       "      <td>ACTRESS</td>\n",
       "      <td>True</td>\n",
       "      <td>Janet Gaynor</td>\n",
       "      <td>7th Heaven</td>\n",
       "      <td>NaN</td>\n",
       "      <td>NaN</td>\n",
       "      <td>1927</td>\n",
       "      <td>3</td>\n",
       "      <td>7th heaven</td>\n",
       "      <td>tt0018379</td>\n",
       "      <td>movie</td>\n",
       "      <td>7th Heaven</td>\n",
       "      <td>7th Heaven</td>\n",
       "      <td>0</td>\n",
       "      <td>1927</td>\n",
       "      <td>NaN</td>\n",
       "      <td>110.0</td>\n",
       "      <td>Drama,Romance</td>\n",
       "      <td>7th heaven</td>\n",
       "    </tr>\n",
       "    <tr>\n",
       "      <th>4</th>\n",
       "      <td>1927/28</td>\n",
       "      <td>ACTRESS</td>\n",
       "      <td>False</td>\n",
       "      <td>Gloria Swanson</td>\n",
       "      <td>Sadie Thompson</td>\n",
       "      <td>NaN</td>\n",
       "      <td>NaN</td>\n",
       "      <td>1927</td>\n",
       "      <td>4</td>\n",
       "      <td>sadie thompson</td>\n",
       "      <td>tt0019344</td>\n",
       "      <td>movie</td>\n",
       "      <td>Sadie Thompson</td>\n",
       "      <td>Sadie Thompson</td>\n",
       "      <td>0</td>\n",
       "      <td>1928</td>\n",
       "      <td>NaN</td>\n",
       "      <td>97.0</td>\n",
       "      <td>Drama</td>\n",
       "      <td>sadie thompson</td>\n",
       "    </tr>\n",
       "  </tbody>\n",
       "</table>\n",
       "</div>"
      ],
      "text/plain": [
       "      year    award    won              nominee  ... endYear runtimeMinutes                 genres             title\n",
       "0  1927/28    ACTOR  False  Richard Barthelmess  ...     NaN           65.0                  Drama         the noose\n",
       "1  1927/28    ACTOR   True        Emil Jannings  ...     NaN           88.0  Drama,History,Romance  the last command\n",
       "2  1927/28  ACTRESS  False       Louise Dresser  ...     NaN           70.0                  Drama   a ship comes in\n",
       "3  1927/28  ACTRESS   True         Janet Gaynor  ...     NaN          110.0          Drama,Romance        7th heaven\n",
       "4  1927/28  ACTRESS  False       Gloria Swanson  ...     NaN           97.0                  Drama    sadie thompson\n",
       "\n",
       "[5 rows x 20 columns]"
      ]
     },
     "execution_count": 8,
     "metadata": {},
     "output_type": "execute_result"
    }
   ],
   "source": [
    "best_picture_categories = {\"BEST MOTION PICTURE\", \"BEST PICTURE\", \"OUTSTANDING MOTION PICTURE\", \"OUTSTANDING PICTURE\", \"OUTSTANDING PRODUCTION\"}\n",
    "oscar_data.head()"
   ]
  },
  {
   "cell_type": "code",
   "execution_count": 70,
   "metadata": {},
   "outputs": [
    {
     "data": {
      "text/plain": [
       "[('Drama', 477),\n",
       " ('Romance', 167),\n",
       " ('Comedy', 117),\n",
       " ('Biography', 108),\n",
       " ('History', 64),\n",
       " ('Adventure', 63),\n",
       " ('Crime', 61),\n",
       " ('War', 38),\n",
       " ('Action', 32),\n",
       " ('Thriller', 32),\n",
       " ('Musical', 29),\n",
       " ('Fantasy', 27),\n",
       " ('Family', 26),\n",
       " ('Mystery', 25),\n",
       " ('Music', 22),\n",
       " ('Western', 14),\n",
       " ('Film-Noir', 13),\n",
       " ('Sport', 10),\n",
       " ('Sci-Fi', 10),\n",
       " ('Animation', 3),\n",
       " ('Horror', 2)]"
      ]
     },
     "execution_count": 70,
     "metadata": {},
     "output_type": "execute_result"
    }
   ],
   "source": [
    "best_picture = oscar_data[\n",
    "    (oscar_data.award.isin(best_picture_categories)) &\n",
    "    (oscar_data.start_year >= 1930)\n",
    "].copy()\n",
    "genres = best_picture.genres.str.split(\",\").apply(collections.Counter)\n",
    "oscar_data_g = genres.sum().most_common()\n",
    "oscar_data_g"
   ]
  },
  {
   "cell_type": "code",
   "execution_count": 56,
   "metadata": {},
   "outputs": [],
   "source": [
    "import re\n",
    "imdb_data = imdb_data[imdb_data.startYear.str.match(r\"[0-9]+\")]\n",
    "imdb_data[\"year\"] = imdb_data.startYear.apply(int)\n",
    "imdb_data = imdb_data[(imdb_data.year >= 1930) & (imdb_data.year <= 2018)]\n",
    "imdb_data.drop(imdb_data[(imdb_data.genres == \"\\\\N\") | (imdb_data.genres.str.contains(\"Documentary\"))].index, inplace=True)"
   ]
  },
  {
   "cell_type": "code",
   "execution_count": 57,
   "metadata": {},
   "outputs": [
    {
     "data": {
      "text/plain": [
       "[('Drama', 145324),\n",
       " ('Comedy', 74777),\n",
       " ('Action', 35084),\n",
       " ('Romance', 34007),\n",
       " ('Crime', 24642),\n",
       " ('Thriller', 23637),\n",
       " ('Horror', 19416),\n",
       " ('Adventure', 17311),\n",
       " ('Family', 10931),\n",
       " ('Mystery', 10532),\n",
       " ('Fantasy', 9093),\n",
       " ('Musical', 8025),\n",
       " ('Adult', 7668),\n",
       " ('Sci-Fi', 6800),\n",
       " ('War', 5926),\n",
       " ('Music', 5197),\n",
       " ('History', 5133),\n",
       " ('Animation', 4853),\n",
       " ('Biography', 4519),\n",
       " ('Western', 4393),\n",
       " ('Sport', 3185),\n",
       " ('Film-Noir', 778),\n",
       " ('Reality-TV', 107),\n",
       " ('News', 79),\n",
       " ('Talk-Show', 55),\n",
       " ('Short', 11),\n",
       " ('Game-Show', 8)]"
      ]
     },
     "execution_count": 57,
     "metadata": {},
     "output_type": "execute_result"
    }
   ],
   "source": [
    "imdb_genres = imdb_data.genres.str.split(\",\").apply(collections.Counter)\n",
    "imdb_genre_g = imdb_genres.sum().most_common()\n",
    "imdb_genre_g"
   ]
  },
  {
   "cell_type": "code",
   "execution_count": 58,
   "metadata": {},
   "outputs": [
    {
     "data": {
      "text/plain": [
       "{'Drama': '35.60%',\n",
       " 'Romance': '12.46%',\n",
       " 'Comedy': '8.73%',\n",
       " 'Biography': '8.06%',\n",
       " 'History': '4.78%',\n",
       " 'Adventure': '4.70%',\n",
       " 'Crime': '4.55%',\n",
       " 'War': '2.84%',\n",
       " 'Action': '2.39%',\n",
       " 'Thriller': '2.39%',\n",
       " 'Musical': '2.16%',\n",
       " 'Fantasy': '2.01%',\n",
       " 'Family': '1.94%',\n",
       " 'Mystery': '1.87%',\n",
       " 'Music': '1.64%',\n",
       " 'Western': '1.04%',\n",
       " 'Film-Noir': '0.97%',\n",
       " 'Sport': '0.75%',\n",
       " 'Sci-Fi': '0.75%',\n",
       " 'Animation': '0.22%',\n",
       " 'Horror': '0.15%'}"
      ]
     },
     "execution_count": 58,
     "metadata": {},
     "output_type": "execute_result"
    }
   ],
   "source": [
    "{ genre:f\"{value/sum(genres.sum().values()) * 100:.2f}%\" for genre, value in oscar_data_g }"
   ]
  },
  {
   "cell_type": "code",
   "execution_count": 59,
   "metadata": {},
   "outputs": [
    {
     "data": {
      "text/plain": [
       "{'Drama': '31.49%',\n",
       " 'Comedy': '16.20%',\n",
       " 'Action': '7.60%',\n",
       " 'Romance': '7.37%',\n",
       " 'Crime': '5.34%',\n",
       " 'Thriller': '5.12%',\n",
       " 'Horror': '4.21%',\n",
       " 'Adventure': '3.75%',\n",
       " 'Family': '2.37%',\n",
       " 'Mystery': '2.28%',\n",
       " 'Fantasy': '1.97%',\n",
       " 'Musical': '1.74%',\n",
       " 'Adult': '1.66%',\n",
       " 'Sci-Fi': '1.47%',\n",
       " 'War': '1.28%',\n",
       " 'Music': '1.13%',\n",
       " 'History': '1.11%',\n",
       " 'Animation': '1.05%',\n",
       " 'Biography': '0.98%',\n",
       " 'Western': '0.95%',\n",
       " 'Sport': '0.69%',\n",
       " 'Film-Noir': '0.17%',\n",
       " 'Reality-TV': '0.02%',\n",
       " 'News': '0.02%',\n",
       " 'Talk-Show': '0.01%',\n",
       " 'Short': '0.00%',\n",
       " 'Game-Show': '0.00%'}"
      ]
     },
     "execution_count": 59,
     "metadata": {},
     "output_type": "execute_result"
    }
   ],
   "source": [
    "num_genres = sum([val for genre, val in imdb_genre_g])\n",
    "{ genre:f\"{(value/num_genres) * 100:.2f}%\" for genre, value in imdb_genre_g }"
   ]
  },
  {
   "cell_type": "code",
   "execution_count": 91,
   "metadata": {},
   "outputs": [
    {
     "data": {
      "text/plain": [
       "decade\n",
       "1930s    75.862069\n",
       "1940s    88.571429\n",
       "1950s    90.000000\n",
       "1960s    82.000000\n",
       "1970s    90.000000\n",
       "1980s    96.000000\n",
       "1990s    98.000000\n",
       "2000s    90.909091\n",
       "2010s    89.873418\n",
       "Name: drama_count, dtype: float64"
      ]
     },
     "execution_count": 91,
     "metadata": {},
     "output_type": "execute_result"
    }
   ],
   "source": [
    "best_picture[\"decade\"] = best_picture.start_year.apply(str).str.extract(r\"(^[0-9]{3})\").apply(lambda x: x + \"0s\")\n",
    "best_picture[\"drama_count\"] = best_picture.genres.str.split(\",\").apply(collections.Counter).apply(lambda x: x[\"Drama\"])\n",
    "best_picture.groupby(\"decade\").sum()[\"drama_count\"] / best_picture.groupby(\"decade\").count()[\"drama_count\"] * 100"
   ]
  },
  {
   "cell_type": "code",
   "execution_count": 92,
   "metadata": {},
   "outputs": [
    {
     "data": {
      "text/plain": [
       "decade\n",
       "1930s    0.575422\n",
       "1940s    0.537599\n",
       "1950s    0.569858\n",
       "1960s    0.522761\n",
       "1970s    0.499103\n",
       "1980s    0.493603\n",
       "1990s    0.502042\n",
       "2000s    0.535839\n",
       "2010s    0.508984\n",
       "Name: drama_count, dtype: float64"
      ]
     },
     "execution_count": 92,
     "metadata": {},
     "output_type": "execute_result"
    }
   ],
   "source": [
    "imdb_data[\"decade\"] = imdb_data.startYear.apply(str).str.extract(r\"(^[0-9]{3})\").apply(lambda x: x + \"0s\")\n",
    "imdb_data[\"drama_count\"] = imdb_data.genres.str.split(\",\").apply(collections.Counter).apply(lambda x: x[\"Drama\"])\n",
    "imdb_data.groupby(\"decade\").sum()[\"drama_count\"] / imdb_data.groupby(\"decade\").count()[\"drama_count\"]"
   ]
  },
  {
   "cell_type": "code",
   "execution_count": 93,
   "metadata": {},
   "outputs": [
    {
     "data": {
      "text/plain": [
       "decade\n",
       "1930s    87\n",
       "1940s    70\n",
       "1950s    50\n",
       "1960s    50\n",
       "1970s    50\n",
       "1980s    50\n",
       "1990s    50\n",
       "2000s    55\n",
       "2010s    79\n",
       "Name: drama_count, dtype: int64"
      ]
     },
     "execution_count": 93,
     "metadata": {},
     "output_type": "execute_result"
    }
   ],
   "source": [
    "best_picture.groupby(\"decade\").count().drama_count"
   ]
  },
  {
   "cell_type": "code",
   "execution_count": 98,
   "metadata": {},
   "outputs": [
    {
     "data": {
      "text/plain": [
       "0.8817005545286506"
      ]
     },
     "execution_count": 98,
     "metadata": {},
     "output_type": "execute_result"
    }
   ],
   "source": [
    "best_picture.drama_count.sum() / len(best_picture)"
   ]
  },
  {
   "cell_type": "code",
   "execution_count": 99,
   "metadata": {},
   "outputs": [
    {
     "data": {
      "text/plain": [
       "0.5192498025890314"
      ]
     },
     "execution_count": 99,
     "metadata": {},
     "output_type": "execute_result"
    }
   ],
   "source": [
    "imdb_data.drama_count.sum() / len(imdb_data)"
   ]
  },
  {
   "cell_type": "code",
   "execution_count": null,
   "metadata": {},
   "outputs": [],
   "source": []
  }
 ],
 "metadata": {
  "kernelspec": {
   "display_name": "Python 3",
   "language": "python",
   "name": "python3"
  },
  "language_info": {
   "codemirror_mode": {
    "name": "ipython",
    "version": 3
   },
   "file_extension": ".py",
   "mimetype": "text/x-python",
   "name": "python",
   "nbconvert_exporter": "python",
   "pygments_lexer": "ipython3",
   "version": "3.7.4"
  }
 },
 "nbformat": 4,
 "nbformat_minor": 4
}
